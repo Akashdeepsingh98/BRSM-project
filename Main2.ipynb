{
 "cells": [
  {
   "cell_type": "code",
   "execution_count": 1,
   "metadata": {},
   "outputs": [],
   "source": [
    "import pandas as pd\n",
    "import numpy as np\n",
    "import seaborn as sb\n",
    "import matplotlib.pyplot as plt\n",
    "from scipy import stats\n",
    "from sklearn.linear_model import LinearRegression\n",
    "from sklearn.linear_model import LogisticRegression\n",
    "from sklearn.model_selection import train_test_split\n",
    "from sklearn import metrics\n",
    "import pingouin as pg\n",
    "from sklearn.metrics import r2_score\n",
    "from scipy.stats import levene"
   ]
  },
  {
   "cell_type": "code",
   "execution_count": 2,
   "metadata": {},
   "outputs": [],
   "source": [
    "pd.set_option('display.max_columns', None)\n",
    "pd.set_option('display.max_rows', 500)"
   ]
  },
  {
   "cell_type": "code",
   "execution_count": 3,
   "metadata": {},
   "outputs": [],
   "source": [
    "DATADIR = './data/'"
   ]
  },
  {
   "cell_type": "code",
   "execution_count": 4,
   "metadata": {},
   "outputs": [
    {
     "name": "stdout",
     "output_type": "stream",
     "text": [
      "     Code subject         sleep  sr  BaselineFirst  female  age  night  \\\n",
      "0  S1-1-B      S1  Normal sleep   0              1       0   28    1.5   \n",
      "1  S1-1-B      S1  Normal sleep   0              1       0   28    1.5   \n",
      "2  S1-1-B      S1  Normal sleep   0              1       0   28    1.5   \n",
      "3  S1-1-B      S1  Normal sleep   0              1       0   28    1.5   \n",
      "4  S1-1-B      S1  Normal sleep   0              1       0   28    1.5   \n",
      "\n",
      "   days_between_tests testtime      blockcode  blocknum  trialcode  trialnum  \\\n",
      "0                   7    13:51  learningphase         4  EF_phase1         2   \n",
      "1                   7    13:51  learningphase         4  CD_phase1         5   \n",
      "2                   7    13:51  learningphase         4  AB_phase1         8   \n",
      "3                   7    13:51  learningphase         4  AB_phase1        11   \n",
      "4                   7    13:51  learningphase         4  BA_phase1        14   \n",
      "\n",
      "                     stimulusitem1                    stimulusitem2  \\\n",
      "0  symbols version1\\version1_5.png  symbols version1\\version1_6.png   \n",
      "1  symbols version1\\version1_3.png  symbols version1\\version1_4.png   \n",
      "2  symbols version1\\version1_1.png  symbols version1\\version1_2.png   \n",
      "3  symbols version1\\version1_1.png  symbols version1\\version1_2.png   \n",
      "4  symbols version1\\version1_1.png  symbols version1\\version1_2.png   \n",
      "\n",
      "  values.winletter  response_key values.selectedletter  correct  \\\n",
      "0                E            38                     F        0   \n",
      "1                C            38                     D        0   \n",
      "2                A            38                     B        0   \n",
      "3                A            30                     A        1   \n",
      "4                A            38                     A        1   \n",
      "\n",
      "   response_time_ms  expressions.percA_ab  expressions.percC_CD  \\\n",
      "0              1205                   NaN                   NaN   \n",
      "1              2007                   NaN                   0.0   \n",
      "2              1808              0.000000                   0.0   \n",
      "3              1234              0.500000                   0.0   \n",
      "4               755              0.666667                   0.0   \n",
      "\n",
      "   expressions.percE_EF Bed time Get up time Time in bed Sleep start  \\\n",
      "0                   0.0    23:54       07:40       07:45       00:00   \n",
      "1                   0.0    23:54       07:40       07:45       00:00   \n",
      "2                   0.0    23:54       07:40       07:45       00:00   \n",
      "3                   0.0    23:54       07:40       07:45       00:00   \n",
      "4                   0.0    23:54       07:40       07:45       00:00   \n",
      "\n",
      "  Sleep end Assumed sleep Actual sleep time  Actual sleep (%)  \\\n",
      "0     07:40         07:40               NaN               NaN   \n",
      "1     07:40         07:40               NaN               NaN   \n",
      "2     07:40         07:40               NaN               NaN   \n",
      "3     07:40         07:40               NaN               NaN   \n",
      "4     07:40         07:40               NaN               NaN   \n",
      "\n",
      "  Actual wake time  Actual wake (%)  Sleep efficiency Sleep latency  \\\n",
      "0              NaN              NaN               NaN           NaN   \n",
      "1              NaN              NaN               NaN           NaN   \n",
      "2              NaN              NaN               NaN           NaN   \n",
      "3              NaN              NaN               NaN           NaN   \n",
      "4              NaN              NaN               NaN           NaN   \n",
      "\n",
      "   get_up_easy  well_rested  KSS  SUSS  kss_rt_ms  stress_rt_ms  \n",
      "0          3.5          3.5    4     1     167881          7614  \n",
      "1          3.5          3.5    4     1     167881          7614  \n",
      "2          3.5          3.5    4     1     167881          7614  \n",
      "3          3.5          3.5    4     1     167881          7614  \n",
      "4          3.5          3.5    4     1     167881          7614  \n"
     ]
    }
   ],
   "source": [
    "pstdf = pd.read_csv(DATADIR + 'pst_full_data.txt', sep='\\t')\n",
    "print(pstdf.head())"
   ]
  },
  {
   "cell_type": "code",
   "execution_count": 5,
   "metadata": {},
   "outputs": [
    {
     "data": {
      "text/plain": [
       "Index(['Code', 'subject', 'sleep', 'sr', 'BaselineFirst', 'female', 'age',\n",
       "       'night', 'days_between_tests', 'testtime', 'blockcode', 'blocknum',\n",
       "       'trialcode', 'trialnum', 'stimulusitem1', 'stimulusitem2',\n",
       "       'values.winletter', 'response_key', 'values.selectedletter', 'correct',\n",
       "       'response_time_ms', 'expressions.percA_ab', 'expressions.percC_CD',\n",
       "       'expressions.percE_EF', 'Bed time', 'Get up time', 'Time in bed',\n",
       "       'Sleep start', 'Sleep end', 'Assumed sleep', 'Actual sleep time',\n",
       "       'Actual sleep (%)', 'Actual wake time', 'Actual wake (%)',\n",
       "       'Sleep efficiency', 'Sleep latency', 'get_up_easy', 'well_rested',\n",
       "       'KSS', 'SUSS', 'kss_rt_ms', 'stress_rt_ms'],\n",
       "      dtype='object')"
      ]
     },
     "execution_count": 5,
     "metadata": {},
     "output_type": "execute_result"
    }
   ],
   "source": [
    "pstdf.columns"
   ]
  },
  {
   "cell_type": "markdown",
   "metadata": {},
   "source": [
    "### Sleep restriction affect on win–stay/lose shift tendencies"
   ]
  },
  {
   "cell_type": "markdown",
   "metadata": {},
   "source": [
    "Sleep Restricted Data"
   ]
  },
  {
   "cell_type": "code",
   "execution_count": 31,
   "metadata": {},
   "outputs": [],
   "source": [
    "R_Sleep = pstdf.loc[(pstdf['sleep'] != 'Normal sleep') & (pstdf['blockcode'] != 'testphase')]"
   ]
  },
  {
   "cell_type": "markdown",
   "metadata": {},
   "source": [
    "Normal Sleep Data"
   ]
  },
  {
   "cell_type": "code",
   "execution_count": 32,
   "metadata": {},
   "outputs": [],
   "source": [
    "N_Sleep = pstdf.loc[(pstdf['sleep'] == 'Normal sleep') & (pstdf['blockcode'] != 'testphase')]"
   ]
  },
  {
   "cell_type": "code",
   "execution_count": 33,
   "metadata": {},
   "outputs": [],
   "source": [
    "#Restricted Sleep\n",
    "\n",
    "#unique subjects\n",
    "subjects = R_Sleep['subject'].unique()\n",
    "\n",
    "#unique blocks\n",
    "blocks = R_Sleep['blocknum'].unique()"
   ]
  },
  {
   "cell_type": "code",
   "execution_count": 34,
   "metadata": {},
   "outputs": [
    {
     "data": {
      "text/plain": [
       "array([4, 5, 6, 7, 8, 9], dtype=int64)"
      ]
     },
     "execution_count": 34,
     "metadata": {},
     "output_type": "execute_result"
    }
   ],
   "source": [
    "blocks"
   ]
  },
  {
   "cell_type": "code",
   "execution_count": 35,
   "metadata": {},
   "outputs": [],
   "source": [
    "Learning_rate_R_Sleep = []\n",
    "for each in subjects:\n",
    "    temp_lr = []\n",
    "    for block in blocks:\n",
    "        temp_df = R_Sleep[(R_Sleep['subject'] == each) & (R_Sleep['blocknum'] == block)]\n",
    "#         print(each, block, temp_df['correct'].sum())\n",
    "        if(temp_df['correct'].sum() == 0):\n",
    "            temp_lr.append(temp_lr[-1])\n",
    "        else:\n",
    "            accuracy = float(\"{0:.3f}\".format(temp_df['correct'].sum() / temp_df['correct'].count()))\n",
    "            temp_lr.append(accuracy)\n",
    "    Learning_rate_R_Sleep.append(temp_lr)\n",
    "            "
   ]
  },
  {
   "cell_type": "code",
   "execution_count": 36,
   "metadata": {},
   "outputs": [],
   "source": [
    "X = []\n",
    "for each in Learning_rate_R_Sleep:\n",
    "    index = 0\n",
    "    for i in each:\n",
    "        X.append([0, blocks[index]])\n",
    "        index += 1\n",
    "        index = index%(len(blocks))"
   ]
  },
  {
   "cell_type": "code",
   "execution_count": 37,
   "metadata": {},
   "outputs": [],
   "source": [
    "#Normal Sleep\n",
    "\n",
    "Learning_rate_N_Sleep = []\n",
    "for each in subjects:\n",
    "    temp_lr = []\n",
    "    for block in blocks:\n",
    "        temp_df = N_Sleep[(N_Sleep['subject'] == each) & (N_Sleep['blocknum'] == block)]\n",
    "#         print(each, block, temp_df['correct'].sum())\n",
    "        if(temp_df['correct'].sum() == 0):\n",
    "            temp_lr.append(temp_lr[-1])\n",
    "        else:\n",
    "            accuracy = float(\"{0:.3f}\".format(temp_df['correct'].sum() / temp_df['correct'].count()))\n",
    "            temp_lr.append(accuracy)\n",
    "    Learning_rate_N_Sleep.append(temp_lr)"
   ]
  },
  {
   "cell_type": "code",
   "execution_count": 38,
   "metadata": {},
   "outputs": [],
   "source": [
    "for each in Learning_rate_N_Sleep:\n",
    "    index = 0\n",
    "    for i in each:\n",
    "        X.append([1, blocks[index]])\n",
    "        index += 1\n",
    "        index = index%(len(blocks))"
   ]
  },
  {
   "cell_type": "code",
   "execution_count": 39,
   "metadata": {},
   "outputs": [],
   "source": [
    "#hypothesis - Reduced learning rate during restricted sleep "
   ]
  },
  {
   "cell_type": "code",
   "execution_count": 40,
   "metadata": {},
   "outputs": [],
   "source": [
    "Learning_rate = Learning_rate_R_Sleep + Learning_rate_N_Sleep"
   ]
  },
  {
   "cell_type": "code",
   "execution_count": 41,
   "metadata": {},
   "outputs": [],
   "source": [
    "Learning_rate = sum(Learning_rate, [])"
   ]
  },
  {
   "cell_type": "code",
   "execution_count": 42,
   "metadata": {},
   "outputs": [],
   "source": [
    "df = pd.DataFrame(X, columns = ['Sleep', 'BlockNum'])"
   ]
  },
  {
   "cell_type": "code",
   "execution_count": 43,
   "metadata": {},
   "outputs": [],
   "source": [
    "X_train, X_test, y_train, y_test = train_test_split(df, Learning_rate, test_size=0.33, random_state=42)"
   ]
  },
  {
   "cell_type": "code",
   "execution_count": 44,
   "metadata": {},
   "outputs": [
    {
     "data": {
      "text/plain": [
       "LinearRegression()"
      ]
     },
     "execution_count": 44,
     "metadata": {},
     "output_type": "execute_result"
    }
   ],
   "source": [
    "regr = LinearRegression()\n",
    "regr.fit(X_train, y_train)"
   ]
  },
  {
   "cell_type": "code",
   "execution_count": 45,
   "metadata": {},
   "outputs": [],
   "source": [
    "y_pred = regr.predict(X_test)"
   ]
  },
  {
   "cell_type": "code",
   "execution_count": 46,
   "metadata": {},
   "outputs": [
    {
     "data": {
      "text/plain": [
       "-0.02176263668581835"
      ]
     },
     "execution_count": 46,
     "metadata": {},
     "output_type": "execute_result"
    }
   ],
   "source": [
    "r2_score(y_test, y_pred)"
   ]
  },
  {
   "cell_type": "code",
   "execution_count": 47,
   "metadata": {},
   "outputs": [],
   "source": [
    "fLearning_rate_R_sleep = sum(Learning_rate_R_Sleep, [])\n",
    "fLearning_rate_N_sleep = sum(Learning_rate_N_Sleep, [])"
   ]
  },
  {
   "cell_type": "code",
   "execution_count": 48,
   "metadata": {},
   "outputs": [
    {
     "data": {
      "text/plain": [
       "192"
      ]
     },
     "execution_count": 48,
     "metadata": {},
     "output_type": "execute_result"
    }
   ],
   "source": [
    "len(fLearning_rate_N_sleep)"
   ]
  },
  {
   "cell_type": "code",
   "execution_count": 49,
   "metadata": {},
   "outputs": [
    {
     "data": {
      "text/plain": [
       "192"
      ]
     },
     "execution_count": 49,
     "metadata": {},
     "output_type": "execute_result"
    }
   ],
   "source": [
    "len(fLearning_rate_R_sleep)"
   ]
  },
  {
   "cell_type": "code",
   "execution_count": 51,
   "metadata": {},
   "outputs": [
    {
     "data": {
      "text/plain": [
       "Text(0.5, 1.0, 'Bootstrapped mean differences of Learning Rate for Restricted and Normal Sleep')"
      ]
     },
     "execution_count": 51,
     "metadata": {},
     "output_type": "execute_result"
    },
    {
     "data": {
      "image/png": "[encoded data removed]",
      "text/plain": [
       "<Figure size 432x288 with 1 Axes>"
      ]
     },
     "metadata": {
      "needs_background": "light"
     },
     "output_type": "display_data"
    }
   ],
   "source": [
    "meandiff = np.zeros(1000)\n",
    "for i in range(1000):\n",
    "    var1 = np.random.choice(fLearning_rate_R_sleep, 60)\n",
    "    var2 = np.random.choice(fLearning_rate_N_sleep, 60)\n",
    "    meandiff[i] = np.mean(var1) - np.mean(var2)\n",
    "\n",
    "plt.hist(meandiff, rwidth=0.8)\n",
    "plt.xlabel('Mean difference')\n",
    "plt.ylabel('Count')\n",
    "plt.title('Bootstrapped mean differences of Learning Rate for Restricted and Normal Sleep')"
   ]
  },
  {
   "cell_type": "code",
   "execution_count": 52,
   "metadata": {},
   "outputs": [
    {
     "data": {
      "text/plain": [
       "WilcoxonResult(statistic=35423.5, pvalue=2.8360278175698295e-122)"
      ]
     },
     "execution_count": 52,
     "metadata": {},
     "output_type": "execute_result"
    }
   ],
   "source": [
    "stats.wilcoxon(meandiff)"
   ]
  },
  {
   "cell_type": "code",
   "execution_count": 53,
   "metadata": {},
   "outputs": [
    {
     "data": {
      "text/plain": [
       "WilcoxonResult(statistic=35423.5, pvalue=1.4180139087849147e-122)"
      ]
     },
     "execution_count": 53,
     "metadata": {},
     "output_type": "execute_result"
    }
   ],
   "source": [
    "stats.wilcoxon(meandiff, alternative='less')"
   ]
  },
  {
   "cell_type": "markdown",
   "metadata": {},
   "source": [
    "#### Increase in stress and sleepiness by sleep restriction"
   ]
  },
  {
   "cell_type": "code",
   "execution_count": 20,
   "metadata": {},
   "outputs": [],
   "source": [
    "# Sleepiness\n",
    "KSS_normalsleep = pstdf[pstdf['sleep'] == 'Normal sleep'][['KSS', 'subject']]\n",
    "KSS_nosleep = pstdf[pstdf['sleep'] != 'Normal sleep'][['KSS','subject']]"
   ]
  },
  {
   "cell_type": "code",
   "execution_count": 21,
   "metadata": {},
   "outputs": [],
   "source": [
    "KSS_normalsleep = KSS_normalsleep.groupby('subject').mean().sort_values(['subject']).to_numpy().ravel()"
   ]
  },
  {
   "cell_type": "code",
   "execution_count": 22,
   "metadata": {},
   "outputs": [],
   "source": [
    "KSS_nosleep = KSS_nosleep.groupby('subject').mean().sort_values(['subject']).to_numpy().ravel()"
   ]
  },
  {
   "cell_type": "code",
   "execution_count": 26,
   "metadata": {},
   "outputs": [
    {
     "data": {
      "text/plain": [
       "Ttest_indResult(statistic=-9.59674137604122, pvalue=7.141560015668562e-14)"
      ]
     },
     "execution_count": 26,
     "metadata": {},
     "output_type": "execute_result"
    }
   ],
   "source": [
    "stats.ttest_ind(KSS_normalsleep, KSS_nosleep)"
   ]
  },
  {
   "cell_type": "code",
   "execution_count": null,
   "metadata": {},
   "outputs": [],
   "source": [
    "stats.ttest_ind(KSS_normalsleep, KSS_nosleep)"
   ]
  },
  {
   "cell_type": "code",
   "execution_count": 27,
   "metadata": {},
   "outputs": [],
   "source": [
    "#SUSS \n",
    "SUSS_normalsleep = pstdf[pstdf['sleep'] == 'Normal sleep'][['SUSS', 'subject']]\n",
    "SUSS_nosleep = pstdf[pstdf['sleep'] != 'Normal sleep'][['SUSS','subject']]"
   ]
  },
  {
   "cell_type": "code",
   "execution_count": 28,
   "metadata": {},
   "outputs": [],
   "source": [
    "SUSS_normalsleep = SUSS_normalsleep.groupby('subject').mean().sort_values(['subject']).to_numpy().ravel()"
   ]
  },
  {
   "cell_type": "code",
   "execution_count": 29,
   "metadata": {},
   "outputs": [],
   "source": [
    "SUSS_nosleep = SUSS_nosleep.groupby('subject').mean().sort_values(['subject']).to_numpy().ravel()"
   ]
  },
  {
   "cell_type": "code",
   "execution_count": 30,
   "metadata": {},
   "outputs": [
    {
     "data": {
      "text/plain": [
       "Ttest_indResult(statistic=-1.7163192451849194, pvalue=0.09109659013437574)"
      ]
     },
     "execution_count": 30,
     "metadata": {},
     "output_type": "execute_result"
    }
   ],
   "source": [
    "stats.ttest_ind(SUSS_normalsleep, SUSS_nosleep)"
   ]
  },
  {
   "cell_type": "code",
   "execution_count": null,
   "metadata": {},
   "outputs": [],
   "source": []
  }
 ],
 "metadata": {
  "kernelspec": {
   "display_name": "Python 3",
   "language": "python",
   "name": "python3"
  },
  "language_info": {
   "codemirror_mode": {
    "name": "ipython",
    "version": 3
   },
   "file_extension": ".py",
   "mimetype": "text/x-python",
   "name": "python",
   "nbconvert_exporter": "python",
   "pygments_lexer": "ipython3",
   "version": "3.8.3"
  }
 },
 "nbformat": 4,
 "nbformat_minor": 4
}
