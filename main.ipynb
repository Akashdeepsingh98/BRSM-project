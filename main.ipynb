{
 "cells": [
  {
   "cell_type": "code",
   "execution_count": 19,
   "metadata": {},
   "outputs": [
    {
     "name": "stderr",
     "output_type": "stream",
     "text": [
      "D:\\software\\miniconda3\\envs\\brsmenv\\lib\\site-packages\\outdated\\utils.py:14: OutdatedPackageWarning: The package pingouin is out of date. Your version is 0.5.0, the latest is 0.5.1.\n",
      "Set the environment variable OUTDATED_IGNORE=1 to disable these warnings.\n",
      "  return warn(\n"
     ]
    }
   ],
   "source": [
    "import pandas as pd\n",
    "import numpy as np\n",
    "import seaborn as sb\n",
    "import matplotlib.pyplot as plt\n",
    "from scipy import stats\n",
    "from sklearn.linear_model import LinearRegression\n",
    "from sklearn.linear_model import LogisticRegression\n",
    "from sklearn.model_selection import train_test_split\n",
    "from sklearn import metrics\n",
    "import pingouin as pg"
   ]
  },
  {
   "cell_type": "code",
   "execution_count": 2,
   "metadata": {},
   "outputs": [],
   "source": [
    "DATADIR = './data/'"
   ]
  },
  {
   "cell_type": "code",
   "execution_count": 3,
   "metadata": {},
   "outputs": [
    {
     "name": "stdout",
     "output_type": "stream",
     "text": [
      "     Code subject         sleep  sr  BaselineFirst  female  age  night  \\\n",
      "0  S1-1-B      S1  Normal sleep   0              1       0   28    1.5   \n",
      "1  S1-1-B      S1  Normal sleep   0              1       0   28    1.5   \n",
      "2  S1-1-B      S1  Normal sleep   0              1       0   28    1.5   \n",
      "3  S1-1-B      S1  Normal sleep   0              1       0   28    1.5   \n",
      "4  S1-1-B      S1  Normal sleep   0              1       0   28    1.5   \n",
      "\n",
      "   days_between_tests testtime  ... Actual wake time  Actual wake (%)  \\\n",
      "0                   7    13:51  ...              NaN              NaN   \n",
      "1                   7    13:51  ...              NaN              NaN   \n",
      "2                   7    13:51  ...              NaN              NaN   \n",
      "3                   7    13:51  ...              NaN              NaN   \n",
      "4                   7    13:51  ...              NaN              NaN   \n",
      "\n",
      "  Sleep efficiency  Sleep latency get_up_easy well_rested KSS  SUSS kss_rt_ms  \\\n",
      "0              NaN            NaN         3.5         3.5   4     1    167881   \n",
      "1              NaN            NaN         3.5         3.5   4     1    167881   \n",
      "2              NaN            NaN         3.5         3.5   4     1    167881   \n",
      "3              NaN            NaN         3.5         3.5   4     1    167881   \n",
      "4              NaN            NaN         3.5         3.5   4     1    167881   \n",
      "\n",
      "   stress_rt_ms  \n",
      "0          7614  \n",
      "1          7614  \n",
      "2          7614  \n",
      "3          7614  \n",
      "4          7614  \n",
      "\n",
      "[5 rows x 42 columns]\n"
     ]
    }
   ],
   "source": [
    "pstdf = pd.read_csv(DATADIR + 'pst_full_data.txt', sep='\\t')\n",
    "print(pstdf.head())"
   ]
  },
  {
   "cell_type": "code",
   "execution_count": 15,
   "metadata": {},
   "outputs": [
    {
     "name": "stdout",
     "output_type": "stream",
     "text": [
      "0    EF_phase1\n",
      "1    CD_phase1\n",
      "2    AB_phase1\n",
      "3    AB_phase1\n",
      "4    BA_phase1\n",
      "Name: trialcode, dtype: object\n",
      "0    E\n",
      "1    C\n",
      "2    A\n",
      "3    A\n",
      "4    A\n",
      "Name: values.winletter, dtype: object\n",
      "0    F\n",
      "1    D\n",
      "2    B\n",
      "3    A\n",
      "4    A\n",
      "Name: values.selectedletter, dtype: object\n",
      "0    0\n",
      "1    0\n",
      "2    0\n",
      "3    1\n",
      "4    1\n",
      "Name: correct, dtype: int64\n",
      "0         NaN\n",
      "1         NaN\n",
      "2    0.000000\n",
      "3    0.500000\n",
      "4    0.666667\n",
      "Name: expressions.percA_ab, dtype: float64\n",
      "0    7\n",
      "1    7\n",
      "2    7\n",
      "3    7\n",
      "4    7\n",
      "Name: days_between_tests, dtype: int64\n",
      "0     2\n",
      "1     5\n",
      "2     8\n",
      "3    11\n",
      "4    14\n",
      "Name: trialnum, dtype: int64\n",
      "0    167881\n",
      "1    167881\n",
      "2    167881\n",
      "3    167881\n",
      "4    167881\n",
      "Name: kss_rt_ms, dtype: int64\n"
     ]
    }
   ],
   "source": [
    "print(pstdf['trialcode'].head())\n",
    "print(pstdf['values.winletter'].head())\n",
    "print(pstdf['values.selectedletter'].head())\n",
    "print(pstdf['correct'].head())\n",
    "print(pstdf['expressions.percA_ab'].head())\n",
    "print(pstdf['days_between_tests'].head())\n",
    "print(pstdf['trialnum'].head())\n",
    "print(pstdf['kss_rt_ms'].head())"
   ]
  },
  {
   "cell_type": "code",
   "execution_count": 13,
   "metadata": {},
   "outputs": [
    {
     "name": "stdout",
     "output_type": "stream",
     "text": [
      "0    learningphase\n",
      "1    learningphase\n",
      "2    learningphase\n",
      "3    learningphase\n",
      "4    learningphase\n",
      "Name: blockcode, dtype: object\n",
      "count             13140\n",
      "unique                7\n",
      "top       learningphase\n",
      "freq               3840\n",
      "Name: blockcode, dtype: object\n",
      "['learningphase' 'testphase' 'learningphase2' 'learningphase3'\n",
      " 'learningphase4' 'learningphase5' 'learningphase6']\n",
      "learningphase     3840\n",
      "testphase         3840\n",
      "learningphase2    2100\n",
      "learningphase3    1260\n",
      "learningphase4     960\n",
      "learningphase5     600\n",
      "learningphase6     540\n",
      "Name: blockcode, dtype: int64\n"
     ]
    }
   ],
   "source": [
    "print(pstdf['blockcode'].head())\n",
    "print(pstdf['blockcode'].describe())\n",
    "print(pstdf['blockcode'].unique())\n",
    "print(pstdf['blockcode'].value_counts())"
   ]
  },
  {
   "cell_type": "code",
   "execution_count": 43,
   "metadata": {},
   "outputs": [
    {
     "data": {
      "text/html": [
       "<div>\n",
       "<style scoped>\n",
       "    .dataframe tbody tr th:only-of-type {\n",
       "        vertical-align: middle;\n",
       "    }\n",
       "\n",
       "    .dataframe tbody tr th {\n",
       "        vertical-align: top;\n",
       "    }\n",
       "\n",
       "    .dataframe thead th {\n",
       "        text-align: right;\n",
       "    }\n",
       "</style>\n",
       "<table border=\"1\" class=\"dataframe\">\n",
       "  <thead>\n",
       "    <tr style=\"text-align: right;\">\n",
       "      <th></th>\n",
       "      <th>Code</th>\n",
       "      <th>subject</th>\n",
       "      <th>sleep</th>\n",
       "      <th>sr</th>\n",
       "      <th>BaselineFirst</th>\n",
       "      <th>female</th>\n",
       "      <th>age</th>\n",
       "      <th>correct</th>\n",
       "      <th>response_time_ms</th>\n",
       "      <th>Assumed sleep</th>\n",
       "      <th>...</th>\n",
       "      <th>Actual wake time</th>\n",
       "      <th>Actual wake (%)</th>\n",
       "      <th>Sleep efficiency</th>\n",
       "      <th>Sleep latency</th>\n",
       "      <th>get_up_easy</th>\n",
       "      <th>well_rested</th>\n",
       "      <th>KSS</th>\n",
       "      <th>SUSS</th>\n",
       "      <th>kss_rt_ms</th>\n",
       "      <th>stress_rt_ms</th>\n",
       "    </tr>\n",
       "  </thead>\n",
       "  <tbody>\n",
       "    <tr>\n",
       "      <th>0</th>\n",
       "      <td>S1-1-B</td>\n",
       "      <td>S1</td>\n",
       "      <td>Normal sleep</td>\n",
       "      <td>0</td>\n",
       "      <td>1</td>\n",
       "      <td>0</td>\n",
       "      <td>28</td>\n",
       "      <td>0</td>\n",
       "      <td>1205</td>\n",
       "      <td>07:40</td>\n",
       "      <td>...</td>\n",
       "      <td>NaN</td>\n",
       "      <td>NaN</td>\n",
       "      <td>NaN</td>\n",
       "      <td>NaN</td>\n",
       "      <td>3.5</td>\n",
       "      <td>3.5</td>\n",
       "      <td>4</td>\n",
       "      <td>1</td>\n",
       "      <td>167881</td>\n",
       "      <td>7614</td>\n",
       "    </tr>\n",
       "    <tr>\n",
       "      <th>1</th>\n",
       "      <td>S1-1-B</td>\n",
       "      <td>S1</td>\n",
       "      <td>Normal sleep</td>\n",
       "      <td>0</td>\n",
       "      <td>1</td>\n",
       "      <td>0</td>\n",
       "      <td>28</td>\n",
       "      <td>0</td>\n",
       "      <td>2007</td>\n",
       "      <td>07:40</td>\n",
       "      <td>...</td>\n",
       "      <td>NaN</td>\n",
       "      <td>NaN</td>\n",
       "      <td>NaN</td>\n",
       "      <td>NaN</td>\n",
       "      <td>3.5</td>\n",
       "      <td>3.5</td>\n",
       "      <td>4</td>\n",
       "      <td>1</td>\n",
       "      <td>167881</td>\n",
       "      <td>7614</td>\n",
       "    </tr>\n",
       "    <tr>\n",
       "      <th>2</th>\n",
       "      <td>S1-1-B</td>\n",
       "      <td>S1</td>\n",
       "      <td>Normal sleep</td>\n",
       "      <td>0</td>\n",
       "      <td>1</td>\n",
       "      <td>0</td>\n",
       "      <td>28</td>\n",
       "      <td>0</td>\n",
       "      <td>1808</td>\n",
       "      <td>07:40</td>\n",
       "      <td>...</td>\n",
       "      <td>NaN</td>\n",
       "      <td>NaN</td>\n",
       "      <td>NaN</td>\n",
       "      <td>NaN</td>\n",
       "      <td>3.5</td>\n",
       "      <td>3.5</td>\n",
       "      <td>4</td>\n",
       "      <td>1</td>\n",
       "      <td>167881</td>\n",
       "      <td>7614</td>\n",
       "    </tr>\n",
       "    <tr>\n",
       "      <th>3</th>\n",
       "      <td>S1-1-B</td>\n",
       "      <td>S1</td>\n",
       "      <td>Normal sleep</td>\n",
       "      <td>0</td>\n",
       "      <td>1</td>\n",
       "      <td>0</td>\n",
       "      <td>28</td>\n",
       "      <td>1</td>\n",
       "      <td>1234</td>\n",
       "      <td>07:40</td>\n",
       "      <td>...</td>\n",
       "      <td>NaN</td>\n",
       "      <td>NaN</td>\n",
       "      <td>NaN</td>\n",
       "      <td>NaN</td>\n",
       "      <td>3.5</td>\n",
       "      <td>3.5</td>\n",
       "      <td>4</td>\n",
       "      <td>1</td>\n",
       "      <td>167881</td>\n",
       "      <td>7614</td>\n",
       "    </tr>\n",
       "    <tr>\n",
       "      <th>4</th>\n",
       "      <td>S1-1-B</td>\n",
       "      <td>S1</td>\n",
       "      <td>Normal sleep</td>\n",
       "      <td>0</td>\n",
       "      <td>1</td>\n",
       "      <td>0</td>\n",
       "      <td>28</td>\n",
       "      <td>1</td>\n",
       "      <td>755</td>\n",
       "      <td>07:40</td>\n",
       "      <td>...</td>\n",
       "      <td>NaN</td>\n",
       "      <td>NaN</td>\n",
       "      <td>NaN</td>\n",
       "      <td>NaN</td>\n",
       "      <td>3.5</td>\n",
       "      <td>3.5</td>\n",
       "      <td>4</td>\n",
       "      <td>1</td>\n",
       "      <td>167881</td>\n",
       "      <td>7614</td>\n",
       "    </tr>\n",
       "  </tbody>\n",
       "</table>\n",
       "<p>5 rows × 22 columns</p>\n",
       "</div>"
      ],
      "text/plain": [
       "     Code subject         sleep  sr  BaselineFirst  female  age  correct  \\\n",
       "0  S1-1-B      S1  Normal sleep   0              1       0   28        0   \n",
       "1  S1-1-B      S1  Normal sleep   0              1       0   28        0   \n",
       "2  S1-1-B      S1  Normal sleep   0              1       0   28        0   \n",
       "3  S1-1-B      S1  Normal sleep   0              1       0   28        1   \n",
       "4  S1-1-B      S1  Normal sleep   0              1       0   28        1   \n",
       "\n",
       "   response_time_ms Assumed sleep  ... Actual wake time  Actual wake (%)  \\\n",
       "0              1205         07:40  ...              NaN              NaN   \n",
       "1              2007         07:40  ...              NaN              NaN   \n",
       "2              1808         07:40  ...              NaN              NaN   \n",
       "3              1234         07:40  ...              NaN              NaN   \n",
       "4               755         07:40  ...              NaN              NaN   \n",
       "\n",
       "  Sleep efficiency  Sleep latency  get_up_easy well_rested  KSS  SUSS  \\\n",
       "0              NaN            NaN          3.5         3.5    4     1   \n",
       "1              NaN            NaN          3.5         3.5    4     1   \n",
       "2              NaN            NaN          3.5         3.5    4     1   \n",
       "3              NaN            NaN          3.5         3.5    4     1   \n",
       "4              NaN            NaN          3.5         3.5    4     1   \n",
       "\n",
       "   kss_rt_ms  stress_rt_ms  \n",
       "0     167881          7614  \n",
       "1     167881          7614  \n",
       "2     167881          7614  \n",
       "3     167881          7614  \n",
       "4     167881          7614  \n",
       "\n",
       "[5 rows x 22 columns]"
      ]
     },
     "execution_count": 43,
     "metadata": {},
     "output_type": "execute_result"
    }
   ],
   "source": [
    "impdf = pstdf[['Code', 'subject', 'sleep', 'sr', 'BaselineFirst', 'female', 'age', 'correct', 'response_time_ms', 'Assumed sleep', 'Actual sleep time', 'Actual sleep (%)', 'Actual wake time', 'Actual wake (%)', 'Sleep efficiency', 'Sleep latency', 'get_up_easy', 'well_rested', 'KSS', 'SUSS', 'kss_rt_ms', 'stress_rt_ms']]\n",
    "\n",
    "impdf.head()"
   ]
  },
  {
   "cell_type": "code",
   "execution_count": 44,
   "metadata": {},
   "outputs": [
    {
     "name": "stderr",
     "output_type": "stream",
     "text": [
      "D:\\software\\miniconda3\\envs\\brsmenv\\lib\\site-packages\\pandas\\util\\_decorators.py:311: SettingWithCopyWarning: \n",
      "A value is trying to be set on a copy of a slice from a DataFrame\n",
      "\n",
      "See the caveats in the documentation: https://pandas.pydata.org/pandas-docs/stable/user_guide/indexing.html#returning-a-view-versus-a-copy\n",
      "  return func(*args, **kwargs)\n"
     ]
    },
    {
     "data": {
      "text/plain": [
       "(12600, 22)"
      ]
     },
     "execution_count": 44,
     "metadata": {},
     "output_type": "execute_result"
    }
   ],
   "source": [
    "impdf.dropna(inplace=True)\n",
    "impdf.shape"
   ]
  },
  {
   "cell_type": "markdown",
   "metadata": {},
   "source": [
    "# No column is normally distributed, I checked"
   ]
  },
  {
   "cell_type": "code",
   "execution_count": 6,
   "metadata": {},
   "outputs": [
    {
     "name": "stdout",
     "output_type": "stream",
     "text": [
      "NormaltestResult(statistic=27740.366977480804, pvalue=0.0)\n"
     ]
    },
    {
     "data": {
      "image/png": "[encoded data removed]",
      "text/plain": [
       "<Figure size 432x288 with 1 Axes>"
      ]
     },
     "metadata": {
      "needs_background": "light"
     },
     "output_type": "display_data"
    }
   ],
   "source": [
    "# hypothesis - gender and kss are related\n",
    "sb.histplot(data=impdf, x='KSS')\n",
    "print(stats.normaltest(impdf['KSS'].to_numpy()))"
   ]
  },
  {
   "cell_type": "code",
   "execution_count": 51,
   "metadata": {},
   "outputs": [],
   "source": [
    "femkss = impdf.loc[impdf['female']==1]['KSS'].to_numpy()\n",
    "malkss = impdf.loc[impdf['female']==0]['KSS'].to_numpy()\n"
   ]
  },
  {
   "cell_type": "code",
   "execution_count": 53,
   "metadata": {},
   "outputs": [
    {
     "data": {
      "text/plain": [
       "Text(0.5, 1.0, 'Bootstrapped mean differences of KSS for men and women')"
      ]
     },
     "execution_count": 53,
     "metadata": {},
     "output_type": "execute_result"
    },
    {
     "data": {
      "image/png": "[encoded data removed]",
      "text/plain": [
       "<Figure size 432x288 with 1 Axes>"
      ]
     },
     "metadata": {
      "needs_background": "light"
     },
     "output_type": "display_data"
    }
   ],
   "source": [
    "meandiff = np.zeros(1000)\n",
    "for i in range(1000):\n",
    "    var1 = np.random.choice(femkss, 1000)\n",
    "    var2 = np.random.choice(malkss, 1000)\n",
    "    meandiff[i] = np.mean(var1) - np.mean(var2)\n",
    "\n",
    "plt.hist(meandiff, rwidth=0.8)\n",
    "plt.xlabel('Mean difference')\n",
    "plt.ylabel('Frequency')\n",
    "plt.title('Bootstrapped mean differences of KSS for men and women')"
   ]
  },
  {
   "cell_type": "code",
   "execution_count": 44,
   "metadata": {},
   "outputs": [
    {
     "data": {
      "text/plain": [
       "WilcoxonResult(statistic=1055.5, pvalue=1.674006168423175e-163)"
      ]
     },
     "execution_count": 44,
     "metadata": {},
     "output_type": "execute_result"
    }
   ],
   "source": [
    "stats.wilcoxon(meandiff)"
   ]
  },
  {
   "cell_type": "code",
   "execution_count": 45,
   "metadata": {},
   "outputs": [
    {
     "data": {
      "text/plain": [
       "WilcoxonResult(statistic=497445.5, pvalue=8.370030842115875e-164)"
      ]
     },
     "execution_count": 45,
     "metadata": {},
     "output_type": "execute_result"
    }
   ],
   "source": [
    "stats.wilcoxon(meandiff, alternative='greater')"
   ]
  },
  {
   "cell_type": "markdown",
   "metadata": {},
   "source": [
    "- From p-value we clearly have association of gender and KSS.\n",
    "- Women are generally scoring higher in KSS than men."
   ]
  },
  {
   "cell_type": "code",
   "execution_count": 7,
   "metadata": {},
   "outputs": [
    {
     "name": "stdout",
     "output_type": "stream",
     "text": [
      "NormaltestResult(statistic=1661.2999531859757, pvalue=0.0)\n"
     ]
    },
    {
     "data": {
      "image/png": "[encoded data removed]",
      "text/plain": [
       "<Figure size 432x288 with 1 Axes>"
      ]
     },
     "metadata": {
      "needs_background": "light"
     },
     "output_type": "display_data"
    }
   ],
   "source": [
    "# hypothesis - age has relation with SUSS\n",
    "\n",
    "sb.histplot(data=impdf, x='SUSS')\n",
    "print(stats.normaltest(impdf['SUSS'].to_numpy()))"
   ]
  },
  {
   "cell_type": "code",
   "execution_count": 8,
   "metadata": {},
   "outputs": [
    {
     "data": {
      "text/plain": [
       "KendalltauResult(correlation=0.0611676384271888, pvalue=2.0535150991089027e-20)"
      ]
     },
     "execution_count": 8,
     "metadata": {},
     "output_type": "execute_result"
    }
   ],
   "source": [
    "stats.kendalltau(\n",
    "    impdf['age'].to_numpy(),\n",
    "    impdf['SUSS'].to_numpy()\n",
    ")"
   ]
  },
  {
   "cell_type": "code",
   "execution_count": 55,
   "metadata": {},
   "outputs": [
    {
     "data": {
      "text/plain": [
       "LinearRegression()"
      ]
     },
     "execution_count": 55,
     "metadata": {},
     "output_type": "execute_result"
    }
   ],
   "source": [
    "x_train, x_test, y_train, y_test = train_test_split(impdf['age'].to_numpy(), impdf['SUSS'].to_numpy(), test_size = 1/3)\n",
    "model = LinearRegression()\n",
    "model.fit(np.reshape(x_train, (x_train.shape[0], 1)), y_train)"
   ]
  },
  {
   "cell_type": "code",
   "execution_count": 56,
   "metadata": {},
   "outputs": [
    {
     "data": {
      "image/png": "[encoded data removed]",
      "text/plain": [
       "<Figure size 432x288 with 1 Axes>"
      ]
     },
     "metadata": {
      "needs_background": "light"
     },
     "output_type": "display_data"
    }
   ],
   "source": [
    "plt.scatter(impdf['age'].to_numpy(), impdf['SUSS'].to_numpy(), color='red')\n",
    "plt.plot(impdf['age'].to_numpy(), model.predict(np.reshape(impdf['age'].to_numpy(), ((impdf['age'].shape[0], 1)))), color='blue')\n",
    "plt.xlabel('Age')\n",
    "plt.ylabel('SUSS')\n",
    "plt.title('Age vs SUSS linear regression')\n",
    "plt.show()"
   ]
  },
  {
   "cell_type": "markdown",
   "metadata": {},
   "source": [
    "- From the p-value there is a clear association between age and stress."
   ]
  },
  {
   "cell_type": "code",
   "execution_count": 7,
   "metadata": {},
   "outputs": [
    {
     "data": {
      "text/plain": [
       "1    8185\n",
       "0    4955\n",
       "Name: correct, dtype: int64"
      ]
     },
     "execution_count": 7,
     "metadata": {},
     "output_type": "execute_result"
    }
   ],
   "source": [
    "impdf['correct'].value_counts()"
   ]
  },
  {
   "cell_type": "code",
   "execution_count": 57,
   "metadata": {},
   "outputs": [
    {
     "data": {
      "text/plain": [
       "LogisticRegression()"
      ]
     },
     "execution_count": 57,
     "metadata": {},
     "output_type": "execute_result"
    }
   ],
   "source": [
    "# hypothesis - KSS and SUSS affect correctness\n",
    "\n",
    "x, y = impdf[['KSS', 'SUSS']].to_numpy(), impdf['correct'].to_numpy()\n",
    "x_train, x_test, y_train, y_test = train_test_split(x, y, test_size = 1/3)\n",
    "\n",
    "logreg = LogisticRegression()\n",
    "logreg.fit(x_train, y_train)"
   ]
  },
  {
   "cell_type": "code",
   "execution_count": 58,
   "metadata": {},
   "outputs": [
    {
     "name": "stdout",
     "output_type": "stream",
     "text": [
      "Score: 0.6235714285714286\n",
      "[[   0 1581]\n",
      " [   0 2619]]\n"
     ]
    }
   ],
   "source": [
    "print(f\"Score: {logreg.score(x_test, y_test)}\")\n",
    "print(f\"{metrics.confusion_matrix(y_test, logreg.predict(x_test))}\")"
   ]
  },
  {
   "cell_type": "markdown",
   "metadata": {},
   "source": [
    "- Logistic regression cannot separate correct and incorrect answers"
   ]
  },
  {
   "cell_type": "code",
   "execution_count": null,
   "metadata": {},
   "outputs": [],
   "source": [
    "# hypothesis - response times for kss and suss can determine "
   ]
  },
  {
   "cell_type": "markdown",
   "metadata": {},
   "source": []
  }
 ],
 "metadata": {
  "interpreter": {
   "hash": "42400b2187876f3faad76213da3a5a51370946b3ca34c99b27537ecaff923710"
  },
  "kernelspec": {
   "display_name": "Python 3.9.7 ('brsmenv')",
   "language": "python",
   "name": "python3"
  },
  "language_info": {
   "codemirror_mode": {
    "name": "ipython",
    "version": 3
   },
   "file_extension": ".py",
   "mimetype": "text/x-python",
   "name": "python",
   "nbconvert_exporter": "python",
   "pygments_lexer": "ipython3",
   "version": "3.9.7"
  },
  "orig_nbformat": 4
 },
 "nbformat": 4,
 "nbformat_minor": 2
}
