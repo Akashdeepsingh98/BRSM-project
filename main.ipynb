{
 "cells": [
  {
   "cell_type": "code",
   "execution_count": 1,
   "metadata": {},
   "outputs": [],
   "source": [
    "import pandas as pd\n",
    "import numpy as np\n",
    "import seaborn as sb\n",
    "import matplotlib.pyplot as plt"
   ]
  },
  {
   "cell_type": "code",
   "execution_count": 2,
   "metadata": {},
   "outputs": [],
   "source": [
    "DATADIR = './data/'"
   ]
  },
  {
   "cell_type": "code",
   "execution_count": 3,
   "metadata": {},
   "outputs": [
    {
     "name": "stdout",
     "output_type": "stream",
     "text": [
      "     Code subject         sleep  sr  BaselineFirst  female  age  night  \\\n",
      "0  S1-1-B      S1  Normal sleep   0              1       0   28    1.5   \n",
      "1  S1-1-B      S1  Normal sleep   0              1       0   28    1.5   \n",
      "2  S1-1-B      S1  Normal sleep   0              1       0   28    1.5   \n",
      "3  S1-1-B      S1  Normal sleep   0              1       0   28    1.5   \n",
      "4  S1-1-B      S1  Normal sleep   0              1       0   28    1.5   \n",
      "\n",
      "   days_between_tests testtime  ... Actual wake time  Actual wake (%)  \\\n",
      "0                   7    13:51  ...              NaN              NaN   \n",
      "1                   7    13:51  ...              NaN              NaN   \n",
      "2                   7    13:51  ...              NaN              NaN   \n",
      "3                   7    13:51  ...              NaN              NaN   \n",
      "4                   7    13:51  ...              NaN              NaN   \n",
      "\n",
      "  Sleep efficiency  Sleep latency get_up_easy well_rested KSS  SUSS kss_rt_ms  \\\n",
      "0              NaN            NaN         3.5         3.5   4     1    167881   \n",
      "1              NaN            NaN         3.5         3.5   4     1    167881   \n",
      "2              NaN            NaN         3.5         3.5   4     1    167881   \n",
      "3              NaN            NaN         3.5         3.5   4     1    167881   \n",
      "4              NaN            NaN         3.5         3.5   4     1    167881   \n",
      "\n",
      "   stress_rt_ms  \n",
      "0          7614  \n",
      "1          7614  \n",
      "2          7614  \n",
      "3          7614  \n",
      "4          7614  \n",
      "\n",
      "[5 rows x 42 columns]\n"
     ]
    }
   ],
   "source": [
    "pstdf = pd.read_csv(DATADIR + 'pst_full_data.txt', sep='\\t')\n",
    "print(pstdf.head())"
   ]
  },
  {
   "cell_type": "code",
   "execution_count": null,
   "metadata": {},
   "outputs": [],
   "source": []
  }
 ],
 "metadata": {
  "interpreter": {
   "hash": "42400b2187876f3faad76213da3a5a51370946b3ca34c99b27537ecaff923710"
  },
  "kernelspec": {
   "display_name": "Python 3.9.7 ('brsmenv')",
   "language": "python",
   "name": "python3"
  },
  "language_info": {
   "codemirror_mode": {
    "name": "ipython",
    "version": 3
   },
   "file_extension": ".py",
   "mimetype": "text/x-python",
   "name": "python",
   "nbconvert_exporter": "python",
   "pygments_lexer": "ipython3",
   "version": "3.9.7"
  },
  "orig_nbformat": 4
 },
 "nbformat": 4,
 "nbformat_minor": 2
}
