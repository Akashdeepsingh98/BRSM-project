{
 "cells": [
  {
   "cell_type": "code",
   "execution_count": 33,
   "metadata": {},
   "outputs": [],
   "source": [
    "import pandas as pd\n",
    "import numpy as np\n",
    "import seaborn as sb\n",
    "import matplotlib.pyplot as plt\n",
    "from scipy import stats"
   ]
  },
  {
   "cell_type": "code",
   "execution_count": 2,
   "metadata": {},
   "outputs": [],
   "source": [
    "DATADIR = './data/'"
   ]
  },
  {
   "cell_type": "code",
   "execution_count": 3,
   "metadata": {},
   "outputs": [
    {
     "name": "stdout",
     "output_type": "stream",
     "text": [
      "     Code subject         sleep  sr  BaselineFirst  female  age  night  \\\n",
      "0  S1-1-B      S1  Normal sleep   0              1       0   28    1.5   \n",
      "1  S1-1-B      S1  Normal sleep   0              1       0   28    1.5   \n",
      "2  S1-1-B      S1  Normal sleep   0              1       0   28    1.5   \n",
      "3  S1-1-B      S1  Normal sleep   0              1       0   28    1.5   \n",
      "4  S1-1-B      S1  Normal sleep   0              1       0   28    1.5   \n",
      "\n",
      "   days_between_tests testtime  ... Actual wake time  Actual wake (%)  \\\n",
      "0                   7    13:51  ...              NaN              NaN   \n",
      "1                   7    13:51  ...              NaN              NaN   \n",
      "2                   7    13:51  ...              NaN              NaN   \n",
      "3                   7    13:51  ...              NaN              NaN   \n",
      "4                   7    13:51  ...              NaN              NaN   \n",
      "\n",
      "  Sleep efficiency  Sleep latency get_up_easy well_rested KSS  SUSS kss_rt_ms  \\\n",
      "0              NaN            NaN         3.5         3.5   4     1    167881   \n",
      "1              NaN            NaN         3.5         3.5   4     1    167881   \n",
      "2              NaN            NaN         3.5         3.5   4     1    167881   \n",
      "3              NaN            NaN         3.5         3.5   4     1    167881   \n",
      "4              NaN            NaN         3.5         3.5   4     1    167881   \n",
      "\n",
      "   stress_rt_ms  \n",
      "0          7614  \n",
      "1          7614  \n",
      "2          7614  \n",
      "3          7614  \n",
      "4          7614  \n",
      "\n",
      "[5 rows x 42 columns]\n"
     ]
    }
   ],
   "source": [
    "pstdf = pd.read_csv(DATADIR + 'pst_full_data.txt', sep='\\t')\n",
    "print(pstdf.head())"
   ]
  },
  {
   "cell_type": "code",
   "execution_count": 15,
   "metadata": {},
   "outputs": [
    {
     "name": "stdout",
     "output_type": "stream",
     "text": [
      "0    EF_phase1\n",
      "1    CD_phase1\n",
      "2    AB_phase1\n",
      "3    AB_phase1\n",
      "4    BA_phase1\n",
      "Name: trialcode, dtype: object\n",
      "0    E\n",
      "1    C\n",
      "2    A\n",
      "3    A\n",
      "4    A\n",
      "Name: values.winletter, dtype: object\n",
      "0    F\n",
      "1    D\n",
      "2    B\n",
      "3    A\n",
      "4    A\n",
      "Name: values.selectedletter, dtype: object\n",
      "0    0\n",
      "1    0\n",
      "2    0\n",
      "3    1\n",
      "4    1\n",
      "Name: correct, dtype: int64\n",
      "0         NaN\n",
      "1         NaN\n",
      "2    0.000000\n",
      "3    0.500000\n",
      "4    0.666667\n",
      "Name: expressions.percA_ab, dtype: float64\n",
      "0    7\n",
      "1    7\n",
      "2    7\n",
      "3    7\n",
      "4    7\n",
      "Name: days_between_tests, dtype: int64\n",
      "0     2\n",
      "1     5\n",
      "2     8\n",
      "3    11\n",
      "4    14\n",
      "Name: trialnum, dtype: int64\n",
      "0    167881\n",
      "1    167881\n",
      "2    167881\n",
      "3    167881\n",
      "4    167881\n",
      "Name: kss_rt_ms, dtype: int64\n"
     ]
    }
   ],
   "source": [
    "print(pstdf['trialcode'].head())\n",
    "print(pstdf['values.winletter'].head())\n",
    "print(pstdf['values.selectedletter'].head())\n",
    "print(pstdf['correct'].head())\n",
    "print(pstdf['expressions.percA_ab'].head())\n",
    "print(pstdf['days_between_tests'].head())\n",
    "print(pstdf['trialnum'].head())\n",
    "print(pstdf['kss_rt_ms'].head())"
   ]
  },
  {
   "cell_type": "code",
   "execution_count": 13,
   "metadata": {},
   "outputs": [
    {
     "name": "stdout",
     "output_type": "stream",
     "text": [
      "0    learningphase\n",
      "1    learningphase\n",
      "2    learningphase\n",
      "3    learningphase\n",
      "4    learningphase\n",
      "Name: blockcode, dtype: object\n",
      "count             13140\n",
      "unique                7\n",
      "top       learningphase\n",
      "freq               3840\n",
      "Name: blockcode, dtype: object\n",
      "['learningphase' 'testphase' 'learningphase2' 'learningphase3'\n",
      " 'learningphase4' 'learningphase5' 'learningphase6']\n",
      "learningphase     3840\n",
      "testphase         3840\n",
      "learningphase2    2100\n",
      "learningphase3    1260\n",
      "learningphase4     960\n",
      "learningphase5     600\n",
      "learningphase6     540\n",
      "Name: blockcode, dtype: int64\n"
     ]
    }
   ],
   "source": [
    "print(pstdf['blockcode'].head())\n",
    "print(pstdf['blockcode'].describe())\n",
    "print(pstdf['blockcode'].unique())\n",
    "print(pstdf['blockcode'].value_counts())"
   ]
  },
  {
   "cell_type": "code",
   "execution_count": 28,
   "metadata": {},
   "outputs": [
    {
     "data": {
      "text/html": [
       "<div>\n",
       "<style scoped>\n",
       "    .dataframe tbody tr th:only-of-type {\n",
       "        vertical-align: middle;\n",
       "    }\n",
       "\n",
       "    .dataframe tbody tr th {\n",
       "        vertical-align: top;\n",
       "    }\n",
       "\n",
       "    .dataframe thead th {\n",
       "        text-align: right;\n",
       "    }\n",
       "</style>\n",
       "<table border=\"1\" class=\"dataframe\">\n",
       "  <thead>\n",
       "    <tr style=\"text-align: right;\">\n",
       "      <th></th>\n",
       "      <th>Code</th>\n",
       "      <th>subject</th>\n",
       "      <th>sleep</th>\n",
       "      <th>sr</th>\n",
       "      <th>BaselineFirst</th>\n",
       "      <th>female</th>\n",
       "      <th>age</th>\n",
       "      <th>blockcode</th>\n",
       "      <th>correct</th>\n",
       "      <th>response_time_ms</th>\n",
       "      <th>...</th>\n",
       "      <th>Actual wake time</th>\n",
       "      <th>Actual wake (%)</th>\n",
       "      <th>Sleep efficiency</th>\n",
       "      <th>Sleep latency</th>\n",
       "      <th>get_up_easy</th>\n",
       "      <th>well_rested</th>\n",
       "      <th>KSS</th>\n",
       "      <th>SUSS</th>\n",
       "      <th>kss_rt_ms</th>\n",
       "      <th>stress_rt_ms</th>\n",
       "    </tr>\n",
       "  </thead>\n",
       "  <tbody>\n",
       "    <tr>\n",
       "      <th>0</th>\n",
       "      <td>S1-1-B</td>\n",
       "      <td>S1</td>\n",
       "      <td>Normal sleep</td>\n",
       "      <td>0</td>\n",
       "      <td>1</td>\n",
       "      <td>0</td>\n",
       "      <td>28</td>\n",
       "      <td>learningphase</td>\n",
       "      <td>0</td>\n",
       "      <td>1205</td>\n",
       "      <td>...</td>\n",
       "      <td>NaN</td>\n",
       "      <td>NaN</td>\n",
       "      <td>NaN</td>\n",
       "      <td>NaN</td>\n",
       "      <td>3.5</td>\n",
       "      <td>3.5</td>\n",
       "      <td>4</td>\n",
       "      <td>1</td>\n",
       "      <td>167881</td>\n",
       "      <td>7614</td>\n",
       "    </tr>\n",
       "    <tr>\n",
       "      <th>1</th>\n",
       "      <td>S1-1-B</td>\n",
       "      <td>S1</td>\n",
       "      <td>Normal sleep</td>\n",
       "      <td>0</td>\n",
       "      <td>1</td>\n",
       "      <td>0</td>\n",
       "      <td>28</td>\n",
       "      <td>learningphase</td>\n",
       "      <td>0</td>\n",
       "      <td>2007</td>\n",
       "      <td>...</td>\n",
       "      <td>NaN</td>\n",
       "      <td>NaN</td>\n",
       "      <td>NaN</td>\n",
       "      <td>NaN</td>\n",
       "      <td>3.5</td>\n",
       "      <td>3.5</td>\n",
       "      <td>4</td>\n",
       "      <td>1</td>\n",
       "      <td>167881</td>\n",
       "      <td>7614</td>\n",
       "    </tr>\n",
       "    <tr>\n",
       "      <th>2</th>\n",
       "      <td>S1-1-B</td>\n",
       "      <td>S1</td>\n",
       "      <td>Normal sleep</td>\n",
       "      <td>0</td>\n",
       "      <td>1</td>\n",
       "      <td>0</td>\n",
       "      <td>28</td>\n",
       "      <td>learningphase</td>\n",
       "      <td>0</td>\n",
       "      <td>1808</td>\n",
       "      <td>...</td>\n",
       "      <td>NaN</td>\n",
       "      <td>NaN</td>\n",
       "      <td>NaN</td>\n",
       "      <td>NaN</td>\n",
       "      <td>3.5</td>\n",
       "      <td>3.5</td>\n",
       "      <td>4</td>\n",
       "      <td>1</td>\n",
       "      <td>167881</td>\n",
       "      <td>7614</td>\n",
       "    </tr>\n",
       "    <tr>\n",
       "      <th>3</th>\n",
       "      <td>S1-1-B</td>\n",
       "      <td>S1</td>\n",
       "      <td>Normal sleep</td>\n",
       "      <td>0</td>\n",
       "      <td>1</td>\n",
       "      <td>0</td>\n",
       "      <td>28</td>\n",
       "      <td>learningphase</td>\n",
       "      <td>1</td>\n",
       "      <td>1234</td>\n",
       "      <td>...</td>\n",
       "      <td>NaN</td>\n",
       "      <td>NaN</td>\n",
       "      <td>NaN</td>\n",
       "      <td>NaN</td>\n",
       "      <td>3.5</td>\n",
       "      <td>3.5</td>\n",
       "      <td>4</td>\n",
       "      <td>1</td>\n",
       "      <td>167881</td>\n",
       "      <td>7614</td>\n",
       "    </tr>\n",
       "    <tr>\n",
       "      <th>4</th>\n",
       "      <td>S1-1-B</td>\n",
       "      <td>S1</td>\n",
       "      <td>Normal sleep</td>\n",
       "      <td>0</td>\n",
       "      <td>1</td>\n",
       "      <td>0</td>\n",
       "      <td>28</td>\n",
       "      <td>learningphase</td>\n",
       "      <td>1</td>\n",
       "      <td>755</td>\n",
       "      <td>...</td>\n",
       "      <td>NaN</td>\n",
       "      <td>NaN</td>\n",
       "      <td>NaN</td>\n",
       "      <td>NaN</td>\n",
       "      <td>3.5</td>\n",
       "      <td>3.5</td>\n",
       "      <td>4</td>\n",
       "      <td>1</td>\n",
       "      <td>167881</td>\n",
       "      <td>7614</td>\n",
       "    </tr>\n",
       "  </tbody>\n",
       "</table>\n",
       "<p>5 rows × 24 columns</p>\n",
       "</div>"
      ],
      "text/plain": [
       "     Code subject         sleep  sr  BaselineFirst  female  age  \\\n",
       "0  S1-1-B      S1  Normal sleep   0              1       0   28   \n",
       "1  S1-1-B      S1  Normal sleep   0              1       0   28   \n",
       "2  S1-1-B      S1  Normal sleep   0              1       0   28   \n",
       "3  S1-1-B      S1  Normal sleep   0              1       0   28   \n",
       "4  S1-1-B      S1  Normal sleep   0              1       0   28   \n",
       "\n",
       "       blockcode  correct  response_time_ms  ... Actual wake time  \\\n",
       "0  learningphase        0              1205  ...              NaN   \n",
       "1  learningphase        0              2007  ...              NaN   \n",
       "2  learningphase        0              1808  ...              NaN   \n",
       "3  learningphase        1              1234  ...              NaN   \n",
       "4  learningphase        1               755  ...              NaN   \n",
       "\n",
       "  Actual wake (%) Sleep efficiency  Sleep latency get_up_easy  well_rested  \\\n",
       "0             NaN              NaN            NaN         3.5          3.5   \n",
       "1             NaN              NaN            NaN         3.5          3.5   \n",
       "2             NaN              NaN            NaN         3.5          3.5   \n",
       "3             NaN              NaN            NaN         3.5          3.5   \n",
       "4             NaN              NaN            NaN         3.5          3.5   \n",
       "\n",
       "   KSS SUSS  kss_rt_ms  stress_rt_ms  \n",
       "0    4    1     167881          7614  \n",
       "1    4    1     167881          7614  \n",
       "2    4    1     167881          7614  \n",
       "3    4    1     167881          7614  \n",
       "4    4    1     167881          7614  \n",
       "\n",
       "[5 rows x 24 columns]"
      ]
     },
     "execution_count": 28,
     "metadata": {},
     "output_type": "execute_result"
    }
   ],
   "source": [
    "impdf = pstdf[['Code', 'subject', 'sleep', 'sr', 'BaselineFirst', 'female', 'age', 'blockcode', 'correct', 'response_time_ms', 'Time in bed', 'Assumed sleep', 'Actual sleep time', 'Actual sleep (%)', 'Actual wake time', 'Actual wake (%)', 'Sleep efficiency', 'Sleep latency', 'get_up_easy', 'well_rested', 'KSS', 'SUSS', 'kss_rt_ms', 'stress_rt_ms']]\n",
    "\n",
    "impdf.head()"
   ]
  },
  {
   "cell_type": "code",
   "execution_count": 29,
   "metadata": {},
   "outputs": [
    {
     "data": {
      "text/plain": [
       "(13140, 24)"
      ]
     },
     "execution_count": 29,
     "metadata": {},
     "output_type": "execute_result"
    }
   ],
   "source": [
    "impdf.shape"
   ]
  },
  {
   "cell_type": "code",
   "execution_count": 30,
   "metadata": {},
   "outputs": [
    {
     "data": {
      "text/plain": [
       "Code                   0\n",
       "subject                0\n",
       "sleep                  0\n",
       "sr                     0\n",
       "BaselineFirst          0\n",
       "female                 0\n",
       "age                    0\n",
       "blockcode              0\n",
       "correct                0\n",
       "response_time_ms       0\n",
       "Time in bed            0\n",
       "Assumed sleep          0\n",
       "Actual sleep time    240\n",
       "Actual sleep (%)     240\n",
       "Actual wake time     240\n",
       "Actual wake (%)      240\n",
       "Sleep efficiency     240\n",
       "Sleep latency        240\n",
       "get_up_easy          300\n",
       "well_rested          300\n",
       "KSS                    0\n",
       "SUSS                   0\n",
       "kss_rt_ms              0\n",
       "stress_rt_ms           0\n",
       "dtype: int64"
      ]
     },
     "execution_count": 30,
     "metadata": {},
     "output_type": "execute_result"
    }
   ],
   "source": [
    "impdf.isna().sum()"
   ]
  },
  {
   "cell_type": "code",
   "execution_count": 31,
   "metadata": {},
   "outputs": [
    {
     "name": "stderr",
     "output_type": "stream",
     "text": [
      "D:\\software\\miniconda3\\envs\\brsmenv\\lib\\site-packages\\pandas\\util\\_decorators.py:311: SettingWithCopyWarning: \n",
      "A value is trying to be set on a copy of a slice from a DataFrame\n",
      "\n",
      "See the caveats in the documentation: https://pandas.pydata.org/pandas-docs/stable/user_guide/indexing.html#returning-a-view-versus-a-copy\n",
      "  return func(*args, **kwargs)\n"
     ]
    },
    {
     "data": {
      "text/plain": [
       "(12600, 24)"
      ]
     },
     "execution_count": 31,
     "metadata": {},
     "output_type": "execute_result"
    }
   ],
   "source": [
    "impdf.dropna(inplace=True)\n",
    "impdf.shape"
   ]
  },
  {
   "cell_type": "code",
   "execution_count": 32,
   "metadata": {},
   "outputs": [
    {
     "data": {
      "text/plain": [
       "<AxesSubplot:xlabel='KSS', ylabel='Count'>"
      ]
     },
     "execution_count": 32,
     "metadata": {},
     "output_type": "execute_result"
    },
    {
     "data": {
      "image/png": "[encoded data removed]",
      "text/plain": [
       "<Figure size 432x288 with 1 Axes>"
      ]
     },
     "metadata": {
      "needs_background": "light"
     },
     "output_type": "display_data"
    }
   ],
   "source": [
    "# hypothesis - gender and kss are related\n",
    "sb.histplot(data=impdf, x='KSS')"
   ]
  },
  {
   "cell_type": "code",
   "execution_count": 42,
   "metadata": {},
   "outputs": [],
   "source": [
    "femkss = impdf.loc[impdf['female']==1]['KSS'].to_numpy()\n",
    "malkss = impdf.loc[impdf['female']==0]['KSS'].to_numpy()\n"
   ]
  },
  {
   "cell_type": "code",
   "execution_count": 43,
   "metadata": {},
   "outputs": [
    {
     "data": {
      "text/plain": [
       "(array([  3.,  16.,  67., 145., 213., 259., 176.,  84.,  33.,   4.]),\n",
       " array([-0.129 , -0.0672, -0.0054,  0.0564,  0.1182,  0.18  ,  0.2418,\n",
       "         0.3036,  0.3654,  0.4272,  0.489 ]),\n",
       " <BarContainer object of 10 artists>)"
      ]
     },
     "execution_count": 43,
     "metadata": {},
     "output_type": "execute_result"
    },
    {
     "data": {
      "image/png": "[encoded data removed]",
      "text/plain": [
       "<Figure size 432x288 with 1 Axes>"
      ]
     },
     "metadata": {
      "needs_background": "light"
     },
     "output_type": "display_data"
    }
   ],
   "source": [
    "meandiff = np.zeros(1000)\n",
    "for i in range(1000):\n",
    "    var1 = np.random.choice(femkss, 1000)\n",
    "    var2 = np.random.choice(malkss, 1000)\n",
    "    meandiff[i] = np.mean(var1) - np.mean(var2)\n",
    "\n",
    "plt.hist(meandiff)"
   ]
  },
  {
   "cell_type": "code",
   "execution_count": 44,
   "metadata": {},
   "outputs": [
    {
     "data": {
      "text/plain": [
       "WilcoxonResult(statistic=1055.5, pvalue=1.674006168423175e-163)"
      ]
     },
     "execution_count": 44,
     "metadata": {},
     "output_type": "execute_result"
    }
   ],
   "source": [
    "stats.wilcoxon(meandiff)"
   ]
  },
  {
   "cell_type": "code",
   "execution_count": 45,
   "metadata": {},
   "outputs": [
    {
     "data": {
      "text/plain": [
       "WilcoxonResult(statistic=497445.5, pvalue=8.370030842115875e-164)"
      ]
     },
     "execution_count": 45,
     "metadata": {},
     "output_type": "execute_result"
    }
   ],
   "source": [
    "stats.wilcoxon(meandiff, alternative='greater')"
   ]
  },
  {
   "cell_type": "code",
   "execution_count": null,
   "metadata": {},
   "outputs": [],
   "source": [
    "# hypothesis - "
   ]
  }
 ],
 "metadata": {
  "interpreter": {
   "hash": "42400b2187876f3faad76213da3a5a51370946b3ca34c99b27537ecaff923710"
  },
  "kernelspec": {
   "display_name": "Python 3.9.7 ('brsmenv')",
   "language": "python",
   "name": "python3"
  },
  "language_info": {
   "codemirror_mode": {
    "name": "ipython",
    "version": 3
   },
   "file_extension": ".py",
   "mimetype": "text/x-python",
   "name": "python",
   "nbconvert_exporter": "python",
   "pygments_lexer": "ipython3",
   "version": "3.9.7"
  },
  "orig_nbformat": 4
 },
 "nbformat": 4,
 "nbformat_minor": 2
}
